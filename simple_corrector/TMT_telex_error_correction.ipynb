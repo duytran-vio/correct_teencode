{
  "nbformat": 4,
  "nbformat_minor": 0,
  "metadata": {
    "colab": {
      "name": "TMT_telex_error_correction.ipynb",
      "provenance": []
    },
    "kernelspec": {
      "name": "python3",
      "display_name": "Python 3"
    },
    "language_info": {
      "name": "python"
    }
  },
  "cells": [
    {
      "cell_type": "code",
      "metadata": {
        "id": "B-QlJrEYa1Fo"
      },
      "source": [
        "import unicodedata\n",
        "import re\n",
        "\n",
        "class TelexErrorCorrector:\n",
        "  '''\n",
        "    Fix telex typing errors by regexs by function fix_telex_sentence\n",
        "    \n",
        "    Step 1: Use regex to fix characters such as aw => ă, aa => â\n",
        "    Step 2: Use regex to fix accent such as af => à, ar => ả\n",
        "  '''\n",
        "\n",
        "  def __init__(self):\n",
        "    self.build_character_regexs()\n",
        "    self.build_accent_regexs()\n",
        "\n",
        "  def fix_telex_sentence(self, sentence):\n",
        "    sentence = unicodedata.normalize('NFC', sentence)\n",
        "    words = [self.fix_telex_word(word) for word in sentence.split()]\n",
        "    return ' '.join(words)\n",
        "\n",
        "  def fix_telex_word(self, word):\n",
        "    for key, value in self.char_telex_errors.items():\n",
        "      word = re.sub(key, value, word)\n",
        "\n",
        "    for key, value in self.accent_telex_errors.items():\n",
        "      word = re.sub(key, value, word)\n",
        "    \n",
        "    return word\n",
        "\n",
        "  def build_character_regexs(self):\n",
        "    chars =               ['ă', 'â', 'ư', 'ô', 'ơ', 'ê']\n",
        "    additional_keystrokes = ['w', 'a', 'w', 'o', 'w', 'e']\n",
        "\n",
        "    char_telex_errors = dict()\n",
        "\n",
        "    for i, c in enumerate(chars):\n",
        "      parts = unicodedata.normalize('NFKD', c)\n",
        "      base_c = parts[0]\n",
        "      keystroke = additional_keystrokes[i]\n",
        "      pattern = f'{base_c}(.*){keystroke}'\n",
        "      char_telex_errors[pattern] = c + '\\\\1'\n",
        "\n",
        "    char_telex_errors['d(.*)d'] = 'đ\\\\1'\n",
        "\n",
        "    self.char_telex_errors = char_telex_errors\n",
        "\n",
        "  def build_accent_regexs(self):\n",
        "    chars = ['a', 'u', 'o', 'e', 'i', 'y', 'ă', 'â', 'ư', 'ô', 'ơ', 'ê']\n",
        "    accents = ['í', 'ỉ', 'ĩ', 'ì', 'ị']\n",
        "    accents = [unicodedata.normalize('NFKD', a)[1] for a in accents]\n",
        "    additional_keystrokes = ['s', 'r', 'x', 'f', 'j']\n",
        "\n",
        "    accent_telex_errors = dict()\n",
        "\n",
        "    for c in chars:\n",
        "      for i, a in enumerate(accents):\n",
        "        text = ''.join([c, a])\n",
        "        merged = unicodedata.normalize('NFC', text)\n",
        "        \n",
        "        keystroke = additional_keystrokes[i]\n",
        "        pattern = f'{c}(.*){keystroke}'\n",
        "        accent_telex_errors[pattern] = merged + '\\\\1'\n",
        "\n",
        "    self.accent_telex_errors = accent_telex_errors\n",
        "\n",
        "  "
      ],
      "execution_count": 14,
      "outputs": []
    },
    {
      "cell_type": "code",
      "metadata": {
        "colab": {
          "base_uri": "https://localhost:8080/"
        },
        "id": "QaI01SSDcMPV",
        "outputId": "72a4aa44-9648-4af3-ce31-8ae3684bf8f0"
      },
      "source": [
        "if __name__ == \"__main__\":\n",
        "  corrector = TelexErrorCorrector()\n",
        "  fixed = corrector.fix_telex_sentence('laf sao thees')\n",
        "  print(fixed)"
      ],
      "execution_count": 13,
      "outputs": [
        {
          "output_type": "stream",
          "text": [
            "là sao thế\n"
          ],
          "name": "stdout"
        }
      ]
    }
  ]
}